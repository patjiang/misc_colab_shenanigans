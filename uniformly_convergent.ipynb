{
  "nbformat": 4,
  "nbformat_minor": 0,
  "metadata": {
    "colab": {
      "provenance": [],
      "authorship_tag": "ABX9TyPCIic+UnCCa0AlhAINJy34",
      "include_colab_link": true
    },
    "kernelspec": {
      "name": "python3",
      "display_name": "Python 3"
    },
    "language_info": {
      "name": "python"
    }
  },
  "cells": [
    {
      "cell_type": "markdown",
      "metadata": {
        "id": "view-in-github",
        "colab_type": "text"
      },
      "source": [
        "<a href=\"https://colab.research.google.com/github/patjiang/misc_colab_shenanigans/blob/main/uniformly_convergent.ipynb\" target=\"_parent\"><img src=\"https://colab.research.google.com/assets/colab-badge.svg\" alt=\"Open In Colab\"/></a>"
      ]
    },
    {
      "cell_type": "code",
      "execution_count": 23,
      "metadata": {
        "id": "U2rFs2wYtO0m",
        "cellView": "form"
      },
      "outputs": [],
      "source": [
        "#@title Sample plots to show the concept of uniform convergence.\n",
        "import mpmath as m\n",
        "import matplotlib.pyplot as plt\n",
        "import numpy as np\n",
        "from scipy.interpolate import make_interp_spline\n",
        "\n",
        "def fun(n, x):\n",
        "  return n * x * m.exp(-n * x**2)\n",
        "\n",
        "def calc_eps(y, conv, max):\n",
        "  if(max != 0):\n",
        "    return y + (max - conv)/max # favorite number lol\n",
        "  else:\n",
        "    return y + (max - conv)\n",
        "\n",
        "def make_plot(n, dir, idx,show = False):\n",
        "  lim = m.log(n*30)\n",
        "  if(lim == m.inf):\n",
        "    lim = 1e9\n",
        "  if(lim == -m.inf):\n",
        "    lim = 0\n",
        "  x = np.linspace(0, 3, 1000)\n",
        "  y = [fun(n, i) for i in x]\n",
        "  spl = make_interp_spline(x, y)\n",
        "  y_smoothed = spl(x)\n",
        "\n",
        "  eps = [calc_eps(j, 0, max(y)) for j in y]\n",
        "  spl2 = make_interp_spline(x, eps)\n",
        "  eps_smoothed = spl2(x)\n",
        "\n",
        "  plt.plot(x, y_smoothed, label = f'{n}x * e^(-{n}x^2)', c = 'k')\n",
        "  plt.plot(x, eps_smoothed, label = f'upper epsilon', linestyle = 'dotted', c = 'r')\n",
        "  plt.plot(x, -eps_smoothed, label = f'lower epsilon', linestyle = 'dotted', c = 'r')\n",
        "  plt.plot()\n",
        "  plt.xlim(0,3)\n",
        "  try:\n",
        "    plt.ylim(-int(lim + 1), int(lim + 1))\n",
        "  except:\n",
        "    print(lim)\n",
        "  plt.legend()\n",
        "  if show:\n",
        "    plt.show()\n",
        "  plt.savefig(f'./{dir}/{h}_approx{n}.png')\n",
        "  plt.close()"
      ]
    },
    {
      "cell_type": "code",
      "source": [
        "import os, subprocess\n",
        "num_plots = 10000\n",
        "os.chdir(\"/content/\")\n",
        "if not os.path.isdir('plots'):\n",
        "  os.mkdir('plots')\n",
        "\n",
        "to_plot = list(np.concatenate((np.linspace(0, 19, 20), np.linspace(20, 80, 20), np.linspace(100, 1000, 21),np.linspace(1100, 10000, 20), np.linspace(11000, 100000, 20))))\n",
        "\n",
        "for h,i in enumerate(to_plot):\n",
        "  make_plot(int(i), 'plots', h)\n",
        "  if(i == 19):\n",
        "    print('first stage done')\n",
        "  if(i == 80):\n",
        "    print('second stage done')\n",
        "  if(i == 1000):\n",
        "    print('third stage done')\n",
        "  if(i == 10000):\n",
        "    print('fourth stage done')\n",
        "print('finished plots')"
      ],
      "metadata": {
        "colab": {
          "base_uri": "https://localhost:8080/"
        },
        "id": "hhti-FsjD7gq",
        "outputId": "4277ebe9-0b71-4732-aec9-8590c80a950e"
      },
      "execution_count": 24,
      "outputs": [
        {
          "output_type": "stream",
          "name": "stdout",
          "text": [
            "first stage done\n",
            "second stage done\n",
            "third stage done\n",
            "fourth stage done\n",
            "finished plots\n"
          ]
        }
      ]
    },
    {
      "cell_type": "code",
      "source": [
        "import os\n",
        "import moviepy.video.io.ImageSequenceClip\n",
        "from PIL import Image, ImageFile\n",
        "ImageFile.LOAD_TRUNCATED_IMAGES = True\n",
        "path_to_images = '/content/'\n",
        "\n",
        "image_files = []\n",
        "\n",
        "for img_number in range(0,len(to_plot)):\n",
        "    image_files.append(path_to_images + 'plots/' + str(img_number) + f'_approx{int(to_plot[img_number])}.png')\n",
        "\n",
        "fps = 10\n",
        "\n",
        "clip = moviepy.video.io.ImageSequenceClip.ImageSequenceClip(image_files, fps=fps)\n",
        "clip.write_videofile('uniformly_convergent.mp4')"
      ],
      "metadata": {
        "colab": {
          "base_uri": "https://localhost:8080/"
        },
        "id": "-NeonECkMjWt",
        "outputId": "e537ef60-633f-40e6-8102-6154d144f823"
      },
      "execution_count": 33,
      "outputs": [
        {
          "output_type": "stream",
          "name": "stdout",
          "text": [
            "Moviepy - Building video uniformly_convergent.mp4.\n",
            "Moviepy - Writing video uniformly_convergent.mp4\n",
            "\n"
          ]
        },
        {
          "output_type": "stream",
          "name": "stderr",
          "text": []
        },
        {
          "output_type": "stream",
          "name": "stdout",
          "text": [
            "Moviepy - Done !\n",
            "Moviepy - video ready uniformly_convergent.mp4\n"
          ]
        }
      ]
    },
    {
      "cell_type": "code",
      "source": [],
      "metadata": {
        "colab": {
          "base_uri": "https://localhost:8080/"
        },
        "id": "YytV_EskXBDf",
        "outputId": "c38cb48d-d7d8-48ec-97b8-c64f0717a2ff"
      },
      "execution_count": 30,
      "outputs": [
        {
          "output_type": "execute_result",
          "data": {
            "text/plain": [
              "100000.0"
            ]
          },
          "metadata": {},
          "execution_count": 30
        }
      ]
    }
  ]
}